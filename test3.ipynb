{
 "cells": [
  {
   "cell_type": "code",
   "execution_count": 1,
   "metadata": {},
   "outputs": [],
   "source": [
    "import pandas as pd\n"
   ]
  },
  {
   "cell_type": "code",
   "execution_count": 2,
   "metadata": {},
   "outputs": [],
   "source": [
    "js = pd.read_json(r'./data/A1301-110000.json')"
   ]
  },
  {
   "cell_type": "code",
   "execution_count": 5,
   "metadata": {},
   "outputs": [
    {
     "ename": "AttributeError",
     "evalue": "'str' object has no attribute 'values'",
     "output_type": "error",
     "traceback": [
      "\u001b[0;31m---------------------------------------------------------------------------\u001b[0m",
      "\u001b[0;31mAttributeError\u001b[0m                            Traceback (most recent call last)",
      "\u001b[0;32m<ipython-input-5-305cfddf4f4c>\u001b[0m in \u001b[0;36m<module>\u001b[0;34m\u001b[0m\n\u001b[0;32m----> 1\u001b[0;31m \u001b[0mjs_normalized\u001b[0m\u001b[0;34m=\u001b[0m\u001b[0mpd\u001b[0m\u001b[0;34m.\u001b[0m\u001b[0mio\u001b[0m\u001b[0;34m.\u001b[0m\u001b[0mjson\u001b[0m\u001b[0;34m.\u001b[0m\u001b[0mjson_normalize\u001b[0m\u001b[0;34m(\u001b[0m\u001b[0mjs\u001b[0m\u001b[0;34m)\u001b[0m\u001b[0;34m\u001b[0m\u001b[0;34m\u001b[0m\u001b[0m\n\u001b[0m",
      "\u001b[0;32m//anaconda3/lib/python3.7/site-packages/pandas/io/json/normalize.py\u001b[0m in \u001b[0;36mjson_normalize\u001b[0;34m(data, record_path, meta, meta_prefix, record_prefix, errors, sep)\u001b[0m\n\u001b[1;32m    200\u001b[0m     \u001b[0;32mif\u001b[0m \u001b[0mrecord_path\u001b[0m \u001b[0;32mis\u001b[0m \u001b[0;32mNone\u001b[0m\u001b[0;34m:\u001b[0m\u001b[0;34m\u001b[0m\u001b[0;34m\u001b[0m\u001b[0m\n\u001b[1;32m    201\u001b[0m         if any([isinstance(x, dict)\n\u001b[0;32m--> 202\u001b[0;31m                 for x in compat.itervalues(y)] for y in data):\n\u001b[0m\u001b[1;32m    203\u001b[0m             \u001b[0;31m# naive normalization, this is idempotent for flat records\u001b[0m\u001b[0;34m\u001b[0m\u001b[0;34m\u001b[0m\u001b[0;34m\u001b[0m\u001b[0m\n\u001b[1;32m    204\u001b[0m             \u001b[0;31m# and potentially will inflate the data considerably for\u001b[0m\u001b[0;34m\u001b[0m\u001b[0;34m\u001b[0m\u001b[0;34m\u001b[0m\u001b[0m\n",
      "\u001b[0;32m//anaconda3/lib/python3.7/site-packages/pandas/io/json/normalize.py\u001b[0m in \u001b[0;36m<genexpr>\u001b[0;34m(.0)\u001b[0m\n\u001b[1;32m    200\u001b[0m     \u001b[0;32mif\u001b[0m \u001b[0mrecord_path\u001b[0m \u001b[0;32mis\u001b[0m \u001b[0;32mNone\u001b[0m\u001b[0;34m:\u001b[0m\u001b[0;34m\u001b[0m\u001b[0;34m\u001b[0m\u001b[0m\n\u001b[1;32m    201\u001b[0m         if any([isinstance(x, dict)\n\u001b[0;32m--> 202\u001b[0;31m                 for x in compat.itervalues(y)] for y in data):\n\u001b[0m\u001b[1;32m    203\u001b[0m             \u001b[0;31m# naive normalization, this is idempotent for flat records\u001b[0m\u001b[0;34m\u001b[0m\u001b[0;34m\u001b[0m\u001b[0;34m\u001b[0m\u001b[0m\n\u001b[1;32m    204\u001b[0m             \u001b[0;31m# and potentially will inflate the data considerably for\u001b[0m\u001b[0;34m\u001b[0m\u001b[0;34m\u001b[0m\u001b[0;34m\u001b[0m\u001b[0m\n",
      "\u001b[0;32m//anaconda3/lib/python3.7/site-packages/pandas/compat/__init__.py\u001b[0m in \u001b[0;36mitervalues\u001b[0;34m(obj, **kw)\u001b[0m\n\u001b[1;32m    226\u001b[0m \u001b[0;34m\u001b[0m\u001b[0m\n\u001b[1;32m    227\u001b[0m     \u001b[0;32mdef\u001b[0m \u001b[0mitervalues\u001b[0m\u001b[0;34m(\u001b[0m\u001b[0mobj\u001b[0m\u001b[0;34m,\u001b[0m \u001b[0;34m**\u001b[0m\u001b[0mkw\u001b[0m\u001b[0;34m)\u001b[0m\u001b[0;34m:\u001b[0m\u001b[0;34m\u001b[0m\u001b[0;34m\u001b[0m\u001b[0m\n\u001b[0;32m--> 228\u001b[0;31m         \u001b[0;32mreturn\u001b[0m \u001b[0miter\u001b[0m\u001b[0;34m(\u001b[0m\u001b[0mobj\u001b[0m\u001b[0;34m.\u001b[0m\u001b[0mvalues\u001b[0m\u001b[0;34m(\u001b[0m\u001b[0;34m**\u001b[0m\u001b[0mkw\u001b[0m\u001b[0;34m)\u001b[0m\u001b[0;34m)\u001b[0m\u001b[0;34m\u001b[0m\u001b[0;34m\u001b[0m\u001b[0m\n\u001b[0m\u001b[1;32m    229\u001b[0m \u001b[0;34m\u001b[0m\u001b[0m\n\u001b[1;32m    230\u001b[0m     \u001b[0mnext\u001b[0m \u001b[0;34m=\u001b[0m \u001b[0mnext\u001b[0m\u001b[0;34m\u001b[0m\u001b[0;34m\u001b[0m\u001b[0m\n",
      "\u001b[0;31mAttributeError\u001b[0m: 'str' object has no attribute 'values'"
     ]
    }
   ],
   "source": [
    "js_normalized=pd.io.json.json_normalize(js)"
   ]
  },
  {
   "cell_type": "code",
   "execution_count": 12,
   "metadata": {},
   "outputs": [
    {
     "ename": "AttributeError",
     "evalue": "'DataFrame' object has no attribute 'json'",
     "output_type": "error",
     "traceback": [
      "\u001b[0;31m---------------------------------------------------------------------------\u001b[0m",
      "\u001b[0;31mAttributeError\u001b[0m                            Traceback (most recent call last)",
      "\u001b[0;32m<ipython-input-12-b36bf0d1f16d>\u001b[0m in \u001b[0;36m<module>\u001b[0;34m\u001b[0m\n\u001b[0;32m----> 1\u001b[0;31m \u001b[0mjs\u001b[0m\u001b[0;34m.\u001b[0m\u001b[0mjson\u001b[0m\u001b[0;34m(\u001b[0m\u001b[0;34m)\u001b[0m\u001b[0;34m\u001b[0m\u001b[0;34m\u001b[0m\u001b[0m\n\u001b[0m",
      "\u001b[0;32m//anaconda3/lib/python3.7/site-packages/pandas/core/generic.py\u001b[0m in \u001b[0;36m__getattr__\u001b[0;34m(self, name)\u001b[0m\n\u001b[1;32m   5065\u001b[0m             \u001b[0;32mif\u001b[0m \u001b[0mself\u001b[0m\u001b[0;34m.\u001b[0m\u001b[0m_info_axis\u001b[0m\u001b[0;34m.\u001b[0m\u001b[0m_can_hold_identifiers_and_holds_name\u001b[0m\u001b[0;34m(\u001b[0m\u001b[0mname\u001b[0m\u001b[0;34m)\u001b[0m\u001b[0;34m:\u001b[0m\u001b[0;34m\u001b[0m\u001b[0;34m\u001b[0m\u001b[0m\n\u001b[1;32m   5066\u001b[0m                 \u001b[0;32mreturn\u001b[0m \u001b[0mself\u001b[0m\u001b[0;34m[\u001b[0m\u001b[0mname\u001b[0m\u001b[0;34m]\u001b[0m\u001b[0;34m\u001b[0m\u001b[0;34m\u001b[0m\u001b[0m\n\u001b[0;32m-> 5067\u001b[0;31m             \u001b[0;32mreturn\u001b[0m \u001b[0mobject\u001b[0m\u001b[0;34m.\u001b[0m\u001b[0m__getattribute__\u001b[0m\u001b[0;34m(\u001b[0m\u001b[0mself\u001b[0m\u001b[0;34m,\u001b[0m \u001b[0mname\u001b[0m\u001b[0;34m)\u001b[0m\u001b[0;34m\u001b[0m\u001b[0;34m\u001b[0m\u001b[0m\n\u001b[0m\u001b[1;32m   5068\u001b[0m \u001b[0;34m\u001b[0m\u001b[0m\n\u001b[1;32m   5069\u001b[0m     \u001b[0;32mdef\u001b[0m \u001b[0m__setattr__\u001b[0m\u001b[0;34m(\u001b[0m\u001b[0mself\u001b[0m\u001b[0;34m,\u001b[0m \u001b[0mname\u001b[0m\u001b[0;34m,\u001b[0m \u001b[0mvalue\u001b[0m\u001b[0;34m)\u001b[0m\u001b[0;34m:\u001b[0m\u001b[0;34m\u001b[0m\u001b[0;34m\u001b[0m\u001b[0m\n",
      "\u001b[0;31mAttributeError\u001b[0m: 'DataFrame' object has no attribute 'json'"
     ]
    }
   ],
   "source": [
    "js.json()"
   ]
  },
  {
   "cell_type": "code",
   "execution_count": 13,
   "metadata": {},
   "outputs": [],
   "source": [
    "import json"
   ]
  },
  {
   "cell_type": "code",
   "execution_count": 15,
   "metadata": {},
   "outputs": [],
   "source": [
    "files='./data/A1301-110000.json'\n",
    "with open(files) as f:\n",
    "  data = json.load(f)"
   ]
  },
  {
   "cell_type": "code",
   "execution_count": 24,
   "metadata": {},
   "outputs": [
    {
     "data": {
      "text/html": [
       "<div>\n",
       "<style scoped>\n",
       "    .dataframe tbody tr th:only-of-type {\n",
       "        vertical-align: middle;\n",
       "    }\n",
       "\n",
       "    .dataframe tbody tr th {\n",
       "        vertical-align: top;\n",
       "    }\n",
       "\n",
       "    .dataframe thead th {\n",
       "        text-align: right;\n",
       "    }\n",
       "</style>\n",
       "<table border=\"1\" class=\"dataframe\">\n",
       "  <thead>\n",
       "    <tr style=\"text-align: right;\">\n",
       "      <th></th>\n",
       "      <th>code</th>\n",
       "      <th>data</th>\n",
       "      <th>wds</th>\n",
       "    </tr>\n",
       "  </thead>\n",
       "  <tbody>\n",
       "    <tr>\n",
       "      <th>0</th>\n",
       "      <td>zb.A01010401_reg.110000_sj.202003</td>\n",
       "      <td>{'data': 103.75331222, 'dotcount': 1, 'hasdata...</td>\n",
       "      <td>[{'valuecode': 'A01010401', 'wdcode': 'zb'}, {...</td>\n",
       "    </tr>\n",
       "    <tr>\n",
       "      <th>1</th>\n",
       "      <td>zb.A01010401_reg.110000_sj.202002</td>\n",
       "      <td>{'data': 104.00732373, 'dotcount': 1, 'hasdata...</td>\n",
       "      <td>[{'valuecode': 'A01010401', 'wdcode': 'zb'}, {...</td>\n",
       "    </tr>\n",
       "    <tr>\n",
       "      <th>2</th>\n",
       "      <td>zb.A01010401_reg.110000_sj.202001</td>\n",
       "      <td>{'data': 104.46560582, 'dotcount': 1, 'hasdata...</td>\n",
       "      <td>[{'valuecode': 'A01010401', 'wdcode': 'zb'}, {...</td>\n",
       "    </tr>\n",
       "    <tr>\n",
       "      <th>3</th>\n",
       "      <td>zb.A01010401_reg.110000_sj.201912</td>\n",
       "      <td>{'data': 102.29231526, 'dotcount': 1, 'hasdata...</td>\n",
       "      <td>[{'valuecode': 'A01010401', 'wdcode': 'zb'}, {...</td>\n",
       "    </tr>\n",
       "    <tr>\n",
       "      <th>4</th>\n",
       "      <td>zb.A01010401_reg.110000_sj.201911</td>\n",
       "      <td>{'data': 102.20274122, 'dotcount': 1, 'hasdata...</td>\n",
       "      <td>[{'valuecode': 'A01010401', 'wdcode': 'zb'}, {...</td>\n",
       "    </tr>\n",
       "  </tbody>\n",
       "</table>\n",
       "</div>"
      ],
      "text/plain": [
       "                                code  \\\n",
       "0  zb.A01010401_reg.110000_sj.202003   \n",
       "1  zb.A01010401_reg.110000_sj.202002   \n",
       "2  zb.A01010401_reg.110000_sj.202001   \n",
       "3  zb.A01010401_reg.110000_sj.201912   \n",
       "4  zb.A01010401_reg.110000_sj.201911   \n",
       "\n",
       "                                                data  \\\n",
       "0  {'data': 103.75331222, 'dotcount': 1, 'hasdata...   \n",
       "1  {'data': 104.00732373, 'dotcount': 1, 'hasdata...   \n",
       "2  {'data': 104.46560582, 'dotcount': 1, 'hasdata...   \n",
       "3  {'data': 102.29231526, 'dotcount': 1, 'hasdata...   \n",
       "4  {'data': 102.20274122, 'dotcount': 1, 'hasdata...   \n",
       "\n",
       "                                                 wds  \n",
       "0  [{'valuecode': 'A01010401', 'wdcode': 'zb'}, {...  \n",
       "1  [{'valuecode': 'A01010401', 'wdcode': 'zb'}, {...  \n",
       "2  [{'valuecode': 'A01010401', 'wdcode': 'zb'}, {...  \n",
       "3  [{'valuecode': 'A01010401', 'wdcode': 'zb'}, {...  \n",
       "4  [{'valuecode': 'A01010401', 'wdcode': 'zb'}, {...  "
      ]
     },
     "execution_count": 24,
     "metadata": {},
     "output_type": "execute_result"
    }
   ],
   "source": [
    "pd.DataFrame(data['returndata']['datanodes']).head()"
   ]
  },
  {
   "cell_type": "code",
   "execution_count": 57,
   "metadata": {},
   "outputs": [
    {
     "data": {
      "text/html": [
       "<div>\n",
       "<style scoped>\n",
       "    .dataframe tbody tr th:only-of-type {\n",
       "        vertical-align: middle;\n",
       "    }\n",
       "\n",
       "    .dataframe tbody tr th {\n",
       "        vertical-align: top;\n",
       "    }\n",
       "\n",
       "    .dataframe thead th {\n",
       "        text-align: right;\n",
       "    }\n",
       "</style>\n",
       "<table border=\"1\" class=\"dataframe\">\n",
       "  <thead>\n",
       "    <tr style=\"text-align: right;\">\n",
       "      <th></th>\n",
       "      <th>code</th>\n",
       "      <th>data</th>\n",
       "      <th>wds</th>\n",
       "    </tr>\n",
       "  </thead>\n",
       "  <tbody>\n",
       "    <tr>\n",
       "      <th>0</th>\n",
       "      <td>zb.A01010401_reg.110000_sj.202003</td>\n",
       "      <td>{'data': 103.75331222, 'dotcount': 1, 'hasdata...</td>\n",
       "      <td>[{'valuecode': 'A01010401', 'wdcode': 'zb'}, {...</td>\n",
       "    </tr>\n",
       "    <tr>\n",
       "      <th>1</th>\n",
       "      <td>zb.A01010401_reg.110000_sj.202002</td>\n",
       "      <td>{'data': 104.00732373, 'dotcount': 1, 'hasdata...</td>\n",
       "      <td>[{'valuecode': 'A01010401', 'wdcode': 'zb'}, {...</td>\n",
       "    </tr>\n",
       "    <tr>\n",
       "      <th>2</th>\n",
       "      <td>zb.A01010401_reg.110000_sj.202001</td>\n",
       "      <td>{'data': 104.46560582, 'dotcount': 1, 'hasdata...</td>\n",
       "      <td>[{'valuecode': 'A01010401', 'wdcode': 'zb'}, {...</td>\n",
       "    </tr>\n",
       "    <tr>\n",
       "      <th>3</th>\n",
       "      <td>zb.A01010401_reg.110000_sj.201912</td>\n",
       "      <td>{'data': 102.29231526, 'dotcount': 1, 'hasdata...</td>\n",
       "      <td>[{'valuecode': 'A01010401', 'wdcode': 'zb'}, {...</td>\n",
       "    </tr>\n",
       "    <tr>\n",
       "      <th>4</th>\n",
       "      <td>zb.A01010401_reg.110000_sj.201911</td>\n",
       "      <td>{'data': 102.20274122, 'dotcount': 1, 'hasdata...</td>\n",
       "      <td>[{'valuecode': 'A01010401', 'wdcode': 'zb'}, {...</td>\n",
       "    </tr>\n",
       "  </tbody>\n",
       "</table>\n",
       "</div>"
      ],
      "text/plain": [
       "                                code  \\\n",
       "0  zb.A01010401_reg.110000_sj.202003   \n",
       "1  zb.A01010401_reg.110000_sj.202002   \n",
       "2  zb.A01010401_reg.110000_sj.202001   \n",
       "3  zb.A01010401_reg.110000_sj.201912   \n",
       "4  zb.A01010401_reg.110000_sj.201911   \n",
       "\n",
       "                                                data  \\\n",
       "0  {'data': 103.75331222, 'dotcount': 1, 'hasdata...   \n",
       "1  {'data': 104.00732373, 'dotcount': 1, 'hasdata...   \n",
       "2  {'data': 104.46560582, 'dotcount': 1, 'hasdata...   \n",
       "3  {'data': 102.29231526, 'dotcount': 1, 'hasdata...   \n",
       "4  {'data': 102.20274122, 'dotcount': 1, 'hasdata...   \n",
       "\n",
       "                                                 wds  \n",
       "0  [{'valuecode': 'A01010401', 'wdcode': 'zb'}, {...  \n",
       "1  [{'valuecode': 'A01010401', 'wdcode': 'zb'}, {...  \n",
       "2  [{'valuecode': 'A01010401', 'wdcode': 'zb'}, {...  \n",
       "3  [{'valuecode': 'A01010401', 'wdcode': 'zb'}, {...  \n",
       "4  [{'valuecode': 'A01010401', 'wdcode': 'zb'}, {...  "
      ]
     },
     "execution_count": 57,
     "metadata": {},
     "output_type": "execute_result"
    }
   ],
   "source": [
    "df=pd.DataFrame(data['returndata']['datanodes'])\n",
    "df.head()"
   ]
  },
  {
   "cell_type": "code",
   "execution_count": 58,
   "metadata": {},
   "outputs": [],
   "source": [
    "def getkeys(data):\n",
    "    keys = data.keys()\n",
    "    return keys\n",
    "def list_to_column(data):\n",
    "    value= data['data']\n",
    "    return value\n",
    "def list_to_column(data):\n",
    "    value= data['data']\n",
    "    return value\n",
    "#pd.DataFrame(data['returndata']['datanodes'])['data'].apply(list_to_column)\n",
    "list(df['data'][0].keys())[0]\n",
    "\n",
    "df['value']=df['data'].apply(list_to_column)\n",
    "df['value']=df['data'].apply(list_to_column)"
   ]
  },
  {
   "cell_type": "code",
   "execution_count": 71,
   "metadata": {},
   "outputs": [
    {
     "data": {
      "text/plain": [
       "'A01010401'"
      ]
     },
     "execution_count": 71,
     "metadata": {},
     "output_type": "execute_result"
    }
   ],
   "source": [
    "def json_to_column(data)\n",
    "    r = json.read(data)\n",
    "    \n",
    "pd.DataFrame(df['wds'][0])['valuecode'][0]"
   ]
  },
  {
   "cell_type": "code",
   "execution_count": null,
   "metadata": {},
   "outputs": [],
   "source": []
  },
  {
   "cell_type": "code",
   "execution_count": 33,
   "metadata": {},
   "outputs": [
    {
     "data": {
      "text/html": [
       "<div>\n",
       "<style scoped>\n",
       "    .dataframe tbody tr th:only-of-type {\n",
       "        vertical-align: middle;\n",
       "    }\n",
       "\n",
       "    .dataframe tbody tr th {\n",
       "        vertical-align: top;\n",
       "    }\n",
       "\n",
       "    .dataframe thead th {\n",
       "        text-align: right;\n",
       "    }\n",
       "</style>\n",
       "<table border=\"1\" class=\"dataframe\">\n",
       "  <thead>\n",
       "    <tr style=\"text-align: right;\">\n",
       "      <th></th>\n",
       "      <th>nodes</th>\n",
       "      <th>wdcode</th>\n",
       "      <th>wdname</th>\n",
       "    </tr>\n",
       "  </thead>\n",
       "  <tbody>\n",
       "    <tr>\n",
       "      <th>0</th>\n",
       "      <td>[{'cname': '居民消费价格指数(上年同期=100)', 'code': 'A010...</td>\n",
       "      <td>zb</td>\n",
       "      <td>指标</td>\n",
       "    </tr>\n",
       "    <tr>\n",
       "      <th>1</th>\n",
       "      <td>[{'cname': '北京市', 'code': '110000', 'dotcount'...</td>\n",
       "      <td>reg</td>\n",
       "      <td>地区</td>\n",
       "    </tr>\n",
       "    <tr>\n",
       "      <th>2</th>\n",
       "      <td>[{'cname': '2020年3月', 'code': '202003', 'dotco...</td>\n",
       "      <td>sj</td>\n",
       "      <td>时间</td>\n",
       "    </tr>\n",
       "  </tbody>\n",
       "</table>\n",
       "</div>"
      ],
      "text/plain": [
       "                                               nodes wdcode wdname\n",
       "0  [{'cname': '居民消费价格指数(上年同期=100)', 'code': 'A010...     zb     指标\n",
       "1  [{'cname': '北京市', 'code': '110000', 'dotcount'...    reg     地区\n",
       "2  [{'cname': '2020年3月', 'code': '202003', 'dotco...     sj     时间"
      ]
     },
     "execution_count": 33,
     "metadata": {},
     "output_type": "execute_result"
    }
   ],
   "source": [
    "pd.DataFrame(data['returndata']['wdnodes']).head(10)"
   ]
  }
 ],
 "metadata": {
  "kernelspec": {
   "display_name": "Python 3",
   "language": "python",
   "name": "python3"
  },
  "language_info": {
   "codemirror_mode": {
    "name": "ipython",
    "version": 3
   },
   "file_extension": ".py",
   "mimetype": "text/x-python",
   "name": "python",
   "nbconvert_exporter": "python",
   "pygments_lexer": "ipython3",
   "version": "3.7.3"
  }
 },
 "nbformat": 4,
 "nbformat_minor": 2
}
